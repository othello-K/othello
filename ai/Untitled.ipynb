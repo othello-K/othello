{
 "cells": [
  {
   "cell_type": "code",
   "execution_count": null,
   "metadata": {},
   "outputs": [],
   "source": [
    "mask_diag5    = 0x0810204080000000\n",
    "mask_diag6    = 0x0408102040800000\n",
    "mask_diag7    = 0x0204081020408000\n",
    "mask_diag8    = 0x0102040810204080\n",
    "mask_hor2     = 0x00FF000000000000\n",
    "mask_hor3     = 0x0000FF0000000000\n",
    "mask_hor4     = 0x000000FF00000000\n",
    "mask_edge2X   = 0xFF42000000000000\n",
    "mask_corner   = 0xF8F8000000000000\n",
    "mask_triangle = 0xF0E0C08000000000\n"
   ]
  }
 ],
 "metadata": {
  "kernelspec": {
   "display_name": "Python 3",
   "language": "python",
   "name": "python3"
  },
  "language_info": {
   "codemirror_mode": {
    "name": "ipython",
    "version": 3
   },
   "file_extension": ".py",
   "mimetype": "text/x-python",
   "name": "python",
   "nbconvert_exporter": "python",
   "pygments_lexer": "ipython3",
   "version": "3.6.4"
  }
 },
 "nbformat": 4,
 "nbformat_minor": 2
}
