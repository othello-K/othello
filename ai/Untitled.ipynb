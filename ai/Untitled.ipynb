{
 "cells": [
  {
   "cell_type": "code",
   "execution_count": 2,
   "metadata": {},
   "outputs": [],
   "source": [
    "import sys\n",
    "sys.path.append(\"../\")\n",
    "import bit_board"
   ]
  },
  {
   "cell_type": "code",
   "execution_count": 7,
   "metadata": {},
   "outputs": [
    {
     "name": "stdout",
     "output_type": "stream",
     "text": [
      "ix: 0y: 0\n",
      "ix: 1y: 0\n",
      "ix: 2y: 0\n",
      "ix: 3y: 0\n",
      "ix: 4y: 0\n",
      "ix: 5y: 0\n",
      "ix: 6y: 0\n",
      "ix: 7y: 0\n",
      "ix: 0y: -1\n",
      "ix: 1y: -1\n",
      "ix: 2y: -1\n",
      "ix: 3y: -1\n",
      "ix: 4y: -1\n",
      "ix: 5y: -1\n",
      "ix: 6y: -1\n",
      "ix: 7y: -1\n",
      "ix: 7y: 0\n",
      "ix: 6y: 0\n",
      "ix: 5y: 0\n",
      "ix: 4y: 0\n",
      "ix: 3y: 0\n",
      "ix: 2y: 0\n",
      "ix: 1y: 0\n",
      "ix: 0y: 0\n",
      "ix: 7y: -1\n",
      "ix: 6y: -1\n",
      "ix: 5y: -1\n",
      "ix: 4y: -1\n",
      "ix: 3y: -1\n",
      "ix: 2y: -1\n",
      "ix: 1y: -1\n",
      "ix: 0y: -1\n"
     ]
    }
   ],
   "source": [
    "forward = range(0, 8)\n",
    "backward = range(8 - 1, -1, -1)\n",
    "corners = ((+0, +0, forward, forward),\n",
    "           (+0, bb.board_size-1, forward, backward),\n",
    "           (bb.get_board_size(), +0, backward, forward),\n",
    "           (bb.board_size-1, -board_size-1, backward, backward))\n",
    "confirm = 0\n",
    "for x, y, rangex, rangey in corners:\n",
    "    for ix in rangex:\n",
    "        print(\"ix: \" + str(ix) + \"y: \" + str(y))\n"
   ]
  },
  {
   "cell_type": "code",
   "execution_count": 9,
   "metadata": {},
   "outputs": [
    {
     "data": {
      "text/plain": [
       "((0, 0, range(0, 8), range(0, 8)),\n",
       " (0, -1, range(0, 8), range(7, -1, -1)),\n",
       " (-1, 0, range(7, -1, -1), range(0, 8)),\n",
       " (-1, -1, range(7, -1, -1), range(7, -1, -1)))"
      ]
     },
     "execution_count": 9,
     "metadata": {},
     "output_type": "execute_result"
    }
   ],
   "source": [
    "corners"
   ]
  },
  {
   "cell_type": "code",
   "execution_count": null,
   "metadata": {},
   "outputs": [],
   "source": []
  }
 ],
 "metadata": {
  "kernelspec": {
   "display_name": "Python 3",
   "language": "python",
   "name": "python3"
  },
  "language_info": {
   "codemirror_mode": {
    "name": "ipython",
    "version": 3
   },
   "file_extension": ".py",
   "mimetype": "text/x-python",
   "name": "python",
   "nbconvert_exporter": "python",
   "pygments_lexer": "ipython3",
   "version": "3.6.4"
  }
 },
 "nbformat": 4,
 "nbformat_minor": 2
}
