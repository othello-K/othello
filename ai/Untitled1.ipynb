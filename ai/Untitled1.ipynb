{
 "cells": [
  {
   "cell_type": "code",
   "execution_count": null,
   "metadata": {},
   "outputs": [],
   "source": [
    "def evaluate(bb, bow):  # 任意の盤面のどちらかの石の評価値を計算する\n",
    "    # bb = bit_board\n",
    "    bp = 0\n",
    "    opp = bb.get_opponent(bow)\n",
    "    for x in range(bb.get_board_size()):\n",
    "        for y in range(bb.get_board_size()):\n",
    "            if bb.get_stone(x,y,bow) == 0 and bb.get_stone(x,y,opp):   #  (x,y)に石が置いてあるか\n",
    "                pass\n",
    "            elif bb.get_stone(x,y,bow) == 1:\n",
    "                bp += EVALUATION_BOARD[x][y] * random.random() * 3\n",
    "            else:\n",
    "                bp -= EVALUATION_BOARD[x][y] * random.random() * 3\n",
    "\n",
    "    p = confirm_stone(bb, bow)\n",
    "    q = confirm_stone(bb, opp)\n",
    "    fs = ((p - q) + random.random() * 3) * 11\n",
    "\n",
    "    b = bb.listing_puttable(bow)\n",
    "    cn = (len(b) + random.random() * 2) * 10\n",
    "\n",
    "    evaluation = bp * 2 + fs * 5 + cn * 1\n",
    "    return evaluation\n",
    "\n",
    "def confirm_stone(bb, bow):  # 確定石の数を数える\n",
    "    # bb = bit_board\n",
    "    forward = range(0, bb.get_board_size())\n",
    "    backward = range(bb.get_board_size() - 1, -1, -1)\n",
    "    corners = ((+0, +0, forward, forward),\n",
    "               (+0, -1, forward, backward),\n",
    "               (-1, +0, backward, forward),\n",
    "               (-1, -1, backward, backward))\n",
    "    confirm = 0\n",
    "    for x, y, rangex, rangey in corners:\n",
    "        for ix in rangex:\n",
    "            if bb.get_stone(ix,y,bow) != 1:\n",
    "                break\n",
    "            confirm += 1\n",
    "        for iy in rangey:\n",
    "            if bb.get_stone(x,iy,bow) != 1:\n",
    "                break\n",
    "            confirm += 1\n",
    "    return confirm"
   ]
  },
  {
   "cell_type": "code",
   "execution_count": 3,
   "metadata": {},
   "outputs": [
    {
     "data": {
      "text/plain": [
       "((0, 0, range(0, 8), range(0, 8)),\n",
       " (0, -1, range(0, 8), range(7, -1, -1)),\n",
       " (-1, 0, range(7, -1, -1), range(0, 8)),\n",
       " (-1, -1, range(7, -1, -1), range(7, -1, -1)))"
      ]
     },
     "execution_count": 3,
     "metadata": {},
     "output_type": "execute_result"
    }
   ],
   "source": [
    "    SIZE = 8\n",
    "    forward = range(0, SIZE)\n",
    "    backward = range(SIZE - 1, -1, -1)\n",
    "    corners = ((+0, +0, forward, forward),\n",
    "               (+0, -1, forward, backward),\n",
    "               (-1, +0, backward, forward),\n",
    "               (-1, -1, backward, backward))\n",
    "    \n",
    "    corners"
   ]
  },
  {
   "cell_type": "code",
   "execution_count": 3,
   "metadata": {},
   "outputs": [
    {
     "ename": "SyntaxError",
     "evalue": "invalid syntax (<ipython-input-3-c2a646ee888f>, line 1)",
     "output_type": "error",
     "traceback": [
      "\u001b[0;36m  File \u001b[0;32m\"<ipython-input-3-c2a646ee888f>\"\u001b[0;36m, line \u001b[0;32m1\u001b[0m\n\u001b[0;31m    import ..bit_board\u001b[0m\n\u001b[0m           ^\u001b[0m\n\u001b[0;31mSyntaxError\u001b[0m\u001b[0;31m:\u001b[0m invalid syntax\n"
     ]
    }
   ],
   "source": [
    "import ..bit_board"
   ]
  },
  {
   "cell_type": "code",
   "execution_count": null,
   "metadata": {},
   "outputs": [],
   "source": []
  }
 ],
 "metadata": {
  "kernelspec": {
   "display_name": "Python 3",
   "language": "python",
   "name": "python3"
  },
  "language_info": {
   "codemirror_mode": {
    "name": "ipython",
    "version": 3
   },
   "file_extension": ".py",
   "mimetype": "text/x-python",
   "name": "python",
   "nbconvert_exporter": "python",
   "pygments_lexer": "ipython3",
   "version": "3.6.4"
  }
 },
 "nbformat": 4,
 "nbformat_minor": 2
}
